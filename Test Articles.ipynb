{
  "nbformat": 4,
  "nbformat_minor": 0,
  "metadata": {
    "colab": {
      "provenance": [],
      "authorship_tag": "ABX9TyOxV1XxzOswDT5OqnjEGd9d",
      "include_colab_link": true
    },
    "kernelspec": {
      "name": "python3",
      "display_name": "Python 3"
    },
    "language_info": {
      "name": "python"
    }
  },
  "cells": [
    {
      "cell_type": "markdown",
      "metadata": {
        "id": "view-in-github",
        "colab_type": "text"
      },
      "source": [
        "<a href=\"https://colab.research.google.com/github/EkaterinePapava/server/blob/11.0/Test%20Articles.ipynb\" target=\"_parent\"><img src=\"https://colab.research.google.com/assets/colab-badge.svg\" alt=\"Open In Colab\"/></a>"
      ]
    },
    {
      "cell_type": "markdown",
      "source": [
        "**Alt Text**"
      ],
      "metadata": {
        "id": "1d0TS438Q7Bx"
      }
    },
    {
      "cell_type": "code",
      "execution_count": null,
      "metadata": {
        "colab": {
          "base_uri": "https://localhost:8080/"
        },
        "id": "VUfDDAQrPGlQ",
        "outputId": "d3a2e367-d871-426c-cd23-ba1757113871"
      },
      "outputs": [
        {
          "output_type": "stream",
          "name": "stdout",
          "text": [
            "All images in the HTML text have alt tags.\n"
          ]
        }
      ],
      "source": [
        "from bs4 import BeautifulSoup\n",
        "\n",
        "\n",
        "def check_alt_tags(html_text):\n",
        "  soup = BeautifulSoup(html_text, 'html.parser')\n",
        "  images = soup.find_all('img')\n",
        "  no_alt_images = []\n",
        "  for image in images:\n",
        "    if not image.has_attr('alt'):\n",
        "      no_alt_images.append(image['src'])\n",
        "  return no_alt_images\n",
        "\n",
        "\n",
        "# Example HTML text:\n",
        "html_text = '''\n",
        "<html>\n",
        "<head>\n",
        "  <title>Example Page</title>\n",
        "</head>\n",
        "<body>\n",
        "12314\n",
        "</body>\n",
        "</html>\n",
        "'''\n",
        "\n",
        "no_alt_images = check_alt_tags(html_text)\n",
        "if len(no_alt_images) > 0:\n",
        "  print(\"The following images do not have alt tags:\")\n",
        "  for src in no_alt_images:\n",
        "    print(f\"- {src}\")\n",
        "else:\n",
        "  print(\"All images in the HTML text have alt tags.\")\n"
      ]
    },
    {
      "cell_type": "markdown",
      "source": [
        "**Repeating URLs**"
      ],
      "metadata": {
        "id": "-kYvAvirQ4Oh"
      }
    },
    {
      "cell_type": "code",
      "source": [
        "import re\n",
        "\n",
        "\n",
        "def extract_urls(html_text, target_urls=None):\n",
        "  # Use a regular expression to find all URLs in the HTML text\n",
        "  urls = re.findall(\n",
        "    r'http[s]?://(?:[a-zA-Z]|[0-9]|[$-_@.&+]|[!*\\(\\),]|(?:%[0-9a-fA-F][0-9a-fA-F]))+',\n",
        "    html_text)\n",
        "  # Use a set to store unique URLs, and a dictionary to count the frequency of each URL\n",
        "  unique_urls = set()\n",
        "  url_counts = {}\n",
        "  # Iterate over each URL, and add it to the set and the dictionary\n",
        "  for url in urls:\n",
        "    if url not in unique_urls:\n",
        "      unique_urls.add(url)\n",
        "      url_counts[url] = 1\n",
        "    else:\n",
        "      url_counts[url] += 1\n",
        "  # Return the URLs that appear more than once or match the target URLs\n",
        "  repeating_urls = [\n",
        "    url for url, count in url_counts.items()\n",
        "    if count > 1 or (target_urls and url in target_urls)\n",
        "  ]\n",
        "  return repeating_urls\n",
        "\n",
        "\n",
        "# Example HTML text:\n",
        "html_text = '''\n",
        "<html>\n",
        "<head>\n",
        "</head>\n",
        "</body>\n",
        "</body>\n",
        "</html>\n",
        "'''\n",
        "\n",
        "# Example target URLs:\n",
        "target_urls = [\n",
        "'https://www.californiadesignden.com/blogs/content/what-color-sheets-go-with-a-white-comforter',\n",
        "'https://www.californiadesignden.com/blogs/content/what-color-comforter-goes-with-grey-sheets',\n",
        "'https://www.californiadesignden.com/blogs/content/what-color-sheets-with-navy-comforter',\n",
        "'https://www.californiadesignden.com/blogs/content/what-color-sheets-go-with-a-yellow-comforter',\n",
        "'https://www.californiadesignden.com/blogs/content/what-color-sheets-go-with-a-red-comforter',\n",
        "'https://www.californiadesignden.com/blogs/content/what-color-sheets-go-with-an-ivory-comforter',\n",
        "'https://www.californiadesignden.com/blogs/content/what-color-sheets-go-with-a-green-comforter',\n",
        "'https://www.californiadesignden.com/blogs/content/what-color-sheets-go-best-with-a-cream-comforter',\n",
        "'https://www.californiadesignden.com/blogs/content/what-color-sheets-go-with-beige-comforters',\n",
        "'https://www.californiadesignden.com/blogs/content/what-color-sheets-go-with-a-gray-bed'\n",
        "]\n",
        "\n",
        "repeating_urls = extract_urls(html_text, target_urls)\n",
        "\n",
        "if repeating_urls:\n",
        "  for url in repeating_urls:\n",
        "    count = html_text.count(url)\n",
        "    print(f\"The URL '{url}' repeats {count} times\")\n",
        "else:\n",
        "  print(\"No repeating URLs were found in the HTML text.\")\n",
        "\n",
        "# Check if target URLs are not found in the text\n",
        "not_found = [\n",
        "  url for url in target_urls\n",
        "  if url not in repeating_urls and url not in html_text\n",
        "]\n",
        "if not_found:\n",
        "  for url in not_found:\n",
        "    print(f\"No repeating URLs or target URLs were found for: {url}\")\n"
      ],
      "metadata": {
        "colab": {
          "base_uri": "https://localhost:8080/"
        },
        "id": "13UzIIcXPrBC",
        "outputId": "a35c1d3c-26a0-4e8a-b98f-6acef073fe91"
      },
      "execution_count": null,
      "outputs": [
        {
          "output_type": "stream",
          "name": "stdout",
          "text": [
            "The URL 'https://www.californiadesignden.com/blogs/content/what-color-sheets-go-with-a-white-comforter' repeats 1 times\n",
            "The URL 'https://www.californiadesignden.com/blogs/content/what-color-sheets-go-with-a-gray-bed' repeats 1 times\n",
            "The URL 'https://www.californiadesignden.com/blogs/content/what-color-sheets-go-with-a-green-comforter' repeats 1 times\n",
            "The URL 'https://www.californiadesignden.com/blogs/content/what-color-sheets-go-with-a-yellow-comforter' repeats 1 times\n",
            "No repeating URLs or target URLs were found for: https://www.californiadesignden.com/blogs/content/what-color-comforter-goes-with-grey-sheets\n",
            "No repeating URLs or target URLs were found for: https://www.californiadesignden.com/blogs/content/what-color-sheets-with-navy-comforter\n",
            "No repeating URLs or target URLs were found for: https://www.californiadesignden.com/blogs/content/what-color-sheets-go-with-a-red-comforter\n",
            "No repeating URLs or target URLs were found for: https://www.californiadesignden.com/blogs/content/what-color-sheets-go-with-an-ivory-comforter\n",
            "No repeating URLs or target URLs were found for: https://www.californiadesignden.com/blogs/content/what-color-sheets-go-best-with-a-cream-comforter\n",
            "No repeating URLs or target URLs were found for: https://www.californiadesignden.com/blogs/content/what-color-sheets-go-with-beige-comforters\n"
          ]
        }
      ]
    },
    {
      "cell_type": "markdown",
      "source": [
        "**Keyword Mapping**\n",
        "\n",
        "```\n",
        "# This is formatted as code\n",
        "```\n",
        "\n"
      ],
      "metadata": {
        "id": "3Th4luMOQ0nB"
      }
    },
    {
      "cell_type": "code",
      "source": [
        "import re\n",
        "\n",
        "\n",
        "def check_urls(html_text, target_urls):\n",
        "  url_counts = {url: 0 for url in target_urls}\n",
        "  url_regex = re.compile(\n",
        "    r'http[s]?://(?:[a-zA-Z]|[0-9]|[$-_@.&+]|[!*\\(\\),]|(?:%[0-9a-fA-F][0-9a-fA-F]))+'\n",
        "  )\n",
        "  urls = re.findall(url_regex, html_text)\n",
        "  for url in urls:\n",
        "    if url in url_counts:\n",
        "      url_counts[url] += 1\n",
        "  return url_counts\n",
        "\n",
        "\n",
        "# Example HTML text:\n",
        "html_text = '''\n",
        "<html>\n",
        "<head>\n",
        "  <title>Example Page</title>\n",
        "</head>\n",
        "<body>\n",
        "123456\n",
        "</body>\n",
        "</html>\n",
        "'''\n",
        "\n",
        "# List of target URLs:\n",
        "target_urls = [\n",
        "'https://gaintheedgeofficial.com/',\n",
        "'https://gaintheedgeofficial.com/collections/midcalf-length-grip-socks',\n",
        "'https://gaintheedgeofficial.com/products/1-grip-socks-2-0-midcalf-length-white',\n",
        "'https://gaintheedgeofficial.com/products/grip-socks-2-0-midcalf-length-black',\n",
        "'https://gaintheedgeofficial.com/products/sock-sleeve',\n",
        "'https://gaintheedgeofficial.com/collections/all-products-kids',\n",
        "'https://gaintheedgeofficial.com/products/grip-socks-2-0-midcalf-length-blue',\n",
        "'https://gaintheedgeofficial.com/products/grip-socks-2-0-midcalf-length-red',\n",
        "'https://gaintheedgeofficial.com/products/grip-socks-2-0-midcalf-length-pink',\n",
        "'https://gaintheedgeofficial.com/products/grip-socks-2-0-midcalf-length-purple'\n",
        "]\n",
        "\n",
        "url_counts = check_urls(html_text, target_urls)\n",
        "for url, count in url_counts.items():\n",
        "  if count > 0:\n",
        "    print(f\"The URL '{url}' appears {count} time(s) in the HTML text.\")\n",
        "  else:\n",
        "    print(f\"The URL '{url}' does not appear in the HTML text.\")\n"
      ],
      "metadata": {
        "colab": {
          "base_uri": "https://localhost:8080/"
        },
        "id": "BHeKH52gQsZj",
        "outputId": "5cd74b25-c062-4d61-a462-a3111fc97ffd"
      },
      "execution_count": null,
      "outputs": [
        {
          "output_type": "stream",
          "name": "stdout",
          "text": [
            "The URL 'https://gaintheedgeofficial.com/' does not appear in the HTML text.\n",
            "The URL 'https://gaintheedgeofficial.com/collections/midcalf-length-grip-socks' appears 1 time(s) in the HTML text.\n",
            "The URL 'https://gaintheedgeofficial.com/products/1-grip-socks-2-0-midcalf-length-white' does not appear in the HTML text.\n",
            "The URL 'https://gaintheedgeofficial.com/products/grip-socks-2-0-midcalf-length-black' does not appear in the HTML text.\n",
            "The URL 'https://gaintheedgeofficial.com/products/sock-sleeve' does not appear in the HTML text.\n",
            "The URL 'https://gaintheedgeofficial.com/collections/all-products-kids' does not appear in the HTML text.\n",
            "The URL 'https://gaintheedgeofficial.com/products/grip-socks-2-0-midcalf-length-blue' does not appear in the HTML text.\n",
            "The URL 'https://gaintheedgeofficial.com/products/grip-socks-2-0-midcalf-length-red' does not appear in the HTML text.\n",
            "The URL 'https://gaintheedgeofficial.com/products/grip-socks-2-0-midcalf-length-pink' does not appear in the HTML text.\n",
            "The URL 'https://gaintheedgeofficial.com/products/grip-socks-2-0-midcalf-length-purple' does not appear in the HTML text.\n"
          ]
        }
      ]
    }
  ]
}